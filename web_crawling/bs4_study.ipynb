{
 "cells": [
  {
   "cell_type": "code",
   "execution_count": 16,
   "metadata": {},
   "outputs": [
    {
     "name": "stdout",
     "output_type": "stream",
     "text": [
      "<class 'str'>\n",
      "<class 'requests.models.Response'>\n",
      "<Response [200]>\n",
      "쿤달 퍼퓸 디퓨저 200ml 3개 + 섬유스틱 15개 세트, 블랙체리향\n",
      "설화수 New 자음2종, 1세트\n",
      "동원 튜나리챔 선물세트 O-68호 + 부직포백, 1세트\n",
      "넛츠팜 프리미엄 견과 선물세트 4호, 1150g, 1세트\n",
      "이동갈비 소고기 한입 LA양념갈비 선물세트 (냉동), 500g, 4개\n",
      "종근당 침향환 골드, 225g, 1개\n",
      "떡편 감사세트 1호 24개입 (냉동), 1080g, 1세트\n",
      "애경 명화의 품격 O-2호 선물세트, 1세트\n",
      "코멧 깨끗한 천연펄프 키친타월 150매, 8개\n",
      "바디프랜드 레그넘 안마의자 + 러그(랜덤발송) 방문설치, BFK-5000, 오트베이지\n",
      "청정원 행복 2호, 1세트\n",
      "타야스 투바나 초콜렛, 1600g, 1개\n",
      "\n",
      "\n",
      "\n",
      "\n"
     ]
    }
   ],
   "source": [
    "\n",
    "import requests\n",
    "from bs4 import BeautifulSoup as bs\n",
    "\n",
    "url = \"http://pages.coupang.com/p/96636\"\n",
    "\n",
    "response = requests.get(url)\n",
    "print(type(response.text))\n",
    "print(type(response))\n",
    "\n",
    "\n",
    "html = bs(response.text)\n",
    "findInfoSectionTitle = html.find_all(\"span\", class_=\"info_section__title\")\n",
    "for title in findInfoSectionTitle:\n",
    "    print(title.text)\n"
   ]
  }
 ],
 "metadata": {
  "kernelspec": {
   "display_name": "base",
   "language": "python",
   "name": "python3"
  },
  "language_info": {
   "codemirror_mode": {
    "name": "ipython",
    "version": 3
   },
   "file_extension": ".py",
   "mimetype": "text/x-python",
   "name": "python",
   "nbconvert_exporter": "python",
   "pygments_lexer": "ipython3",
   "version": "3.11.5"
  },
  "orig_nbformat": 4
 },
 "nbformat": 4,
 "nbformat_minor": 2
}
