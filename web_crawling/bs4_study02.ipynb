{
 "cells": [
  {
   "cell_type": "code",
   "execution_count": 3,
   "metadata": {},
   "outputs": [
    {
     "name": "stdout",
     "output_type": "stream",
     "text": [
      "쿤달 퍼퓸 디퓨저 200ml 3개 + 섬유스틱 15개 세트, 블랙체리향\n",
      "설화수 New 자음2종, 1세트\n",
      "동원 튜나리챔 선물세트 O-68호 + 부직포백, 1세트\n",
      "넛츠팜 프리미엄 견과 선물세트 4호, 1150g, 1세트\n",
      "이동갈비 소고기 한입 LA양념갈비 선물세트 (냉동), 500g, 4개\n",
      "종근당 침향환 골드, 225g, 1개\n",
      "떡편 감사세트 1호 24개입 (냉동), 1080g, 1세트\n",
      "애경 명화의 품격 O-2호 선물세트, 1세트\n",
      "코멧 깨끗한 천연펄프 키친타월 150매, 8개\n",
      "바디프랜드 레그넘 안마의자 + 러그(랜덤발송) 방문설치, BFK-5000, 오트베이지\n",
      "청정원 행복 2호, 1세트\n",
      "타야스 투바나 초콜렛, 1600g, 1개\n",
      "\n",
      "\n",
      "\n",
      "\n"
     ]
    }
   ],
   "source": [
    "import requests\n",
    "from bs4 import BeautifulSoup as bs\n",
    "\n",
    "url = \"http://pages.coupang.com/p/96636\"\n",
    "\n",
    "response = requests.get(url)\n",
    "\n",
    "html = bs(response.text)\n",
    "\n",
    "findInfoSectionTitle = html.find_all(\"span\", class_=\"info_section__title\")\n",
    "for title in findInfoSectionTitle:\n",
    "    print(title.text)"
   ]
  },
  {
   "cell_type": "code",
   "execution_count": 7,
   "metadata": {},
   "outputs": [
    {
     "name": "stdout",
     "output_type": "stream",
     "text": [
      "https://thumbnail10.coupangcdn.com/thumbnails/remote/230x230ex/image/retail/images/3671196941445019-5989f3aa-a942-44e8-bacd-fb4e093aa71c.jpg\n",
      "https://thumbnail6.coupangcdn.com/thumbnails/remote/230x230ex/image/retail/images/4173917782382193-aecaab22-634d-4570-8e6f-0cad29b2149e.jpg\n",
      "https://thumbnail6.coupangcdn.com/thumbnails/remote/230x230ex/image/retail/images/2023/08/11/17/6/ed6a339d-0284-4516-a9e3-65c6c0d13bca.jpg\n",
      "https://thumbnail10.coupangcdn.com/thumbnails/remote/230x230ex/image/product/image/vendoritem/2019/02/15/3025312682/7f05b638-a55a-4037-8e76-1035974e7d86.jpg\n",
      "https://thumbnail9.coupangcdn.com/thumbnails/remote/230x230ex/image/retail/images/2023/08/16/18/1/11edc5e5-d4b8-475d-aacf-df3002e519bc.jpg\n",
      "https://thumbnail7.coupangcdn.com/thumbnails/remote/230x230ex/image/retail/images/1489653006914303-966acf23-cc0e-4c82-86b3-a60ec00416a7.jpg\n",
      "https://thumbnail7.coupangcdn.com/thumbnails/remote/230x230ex/image/retail/images/457539561315-406c6eff-2e95-4b8f-8f07-d916ae3a6b61.jpg\n",
      "https://thumbnail9.coupangcdn.com/thumbnails/remote/230x230ex/image/retail/images/2023/08/11/15/1/62786b28-5dca-407d-a228-92e3aeebc4fd.jpg\n",
      "https://thumbnail10.coupangcdn.com/thumbnails/remote/230x230ex/image/retail/images/702510257453650-55ca429c-1a8e-4385-b70b-1a6dcd0eaffd.jpg\n",
      "https://thumbnail9.coupangcdn.com/thumbnails/remote/230x230ex/image/retail/images/1868430085607403-b15e6f7c-1c9a-427d-b49d-40e5b387a5db.jpg\n",
      "https://thumbnail6.coupangcdn.com/thumbnails/remote/230x230ex/image/retail/images/7537201921766957-699400a0-f754-431d-b18b-a3ebd86423fc.jpg\n",
      "https://thumbnail9.coupangcdn.com/thumbnails/remote/230x230ex/image/retail/images/1066053389089338-5e0dd077-2d91-4609-8f9c-4860cb640c1b.jpg\n",
      "https://thumbnail10.coupangcdn.com/thumbnails/remote/230x230ex/image/retail/images/3671196941445019-5989f3aa-a942-44e8-bacd-fb4e093aa71c.jpg\n",
      "https://thumbnail6.coupangcdn.com/thumbnails/remote/230x230ex/image/retail/images/4173917782382193-aecaab22-634d-4570-8e6f-0cad29b2149e.jpg\n",
      "https://thumbnail6.coupangcdn.com/thumbnails/remote/230x230ex/image/retail/images/2023/08/11/17/6/ed6a339d-0284-4516-a9e3-65c6c0d13bca.jpg\n",
      "https://thumbnail10.coupangcdn.com/thumbnails/remote/230x230ex/image/product/image/vendoritem/2019/02/15/3025312682/7f05b638-a55a-4037-8e76-1035974e7d86.jpg\n",
      "https://thumbnail9.coupangcdn.com/thumbnails/remote/230x230ex/image/retail/images/2023/08/16/18/1/11edc5e5-d4b8-475d-aacf-df3002e519bc.jpg\n",
      "https://thumbnail7.coupangcdn.com/thumbnails/remote/230x230ex/image/retail/images/1489653006914303-966acf23-cc0e-4c82-86b3-a60ec00416a7.jpg\n",
      "https://thumbnail7.coupangcdn.com/thumbnails/remote/230x230ex/image/retail/images/457539561315-406c6eff-2e95-4b8f-8f07-d916ae3a6b61.jpg\n",
      "https://thumbnail9.coupangcdn.com/thumbnails/remote/230x230ex/image/retail/images/2023/08/11/15/1/62786b28-5dca-407d-a228-92e3aeebc4fd.jpg\n",
      "https://thumbnail10.coupangcdn.com/thumbnails/remote/230x230ex/image/retail/images/702510257453650-55ca429c-1a8e-4385-b70b-1a6dcd0eaffd.jpg\n",
      "https://thumbnail9.coupangcdn.com/thumbnails/remote/230x230ex/image/retail/images/1868430085607403-b15e6f7c-1c9a-427d-b49d-40e5b387a5db.jpg\n",
      "https://thumbnail6.coupangcdn.com/thumbnails/remote/230x230ex/image/retail/images/7537201921766957-699400a0-f754-431d-b18b-a3ebd86423fc.jpg\n",
      "https://thumbnail9.coupangcdn.com/thumbnails/remote/230x230ex/image/retail/images/1066053389089338-5e0dd077-2d91-4609-8f9c-4860cb640c1b.jpg\n"
     ]
    }
   ],
   "source": [
    "import requests\n",
    "from bs4 import BeautifulSoup as bs\n",
    "\n",
    "url = \"http://pages.coupang.com/p/96636\"\n",
    "\n",
    "response = requests.get(url)\n",
    "\n",
    "html = bs(response.text)\n",
    "\n",
    "imgs = html.select(\".sale_point_product__product_image > img\")\n",
    "for img in imgs:\n",
    "    if bool(img.get(\"lazy-load\")):\n",
    "        print(\"https://\" + img.get(\"lazy-load\")[2:])\n",
    "\n",
    "divs = html.find_all(\"div\", class_=\"sale_point_product__product_image\")\n",
    "for div in divs:\n",
    "    img = div.find(\"img\")\n",
    "    if bool(img.get(\"lazy-load\")):\n",
    "        print(\"https://\" + img.get(\"lazy-load\")[2:])"
   ]
  },
  {
   "cell_type": "code",
   "execution_count": 8,
   "metadata": {},
   "outputs": [],
   "source": [
    "# price_info__discount\n"
   ]
  },
  {
   "cell_type": "code",
   "execution_count": 13,
   "metadata": {},
   "outputs": [
    {
     "name": "stdout",
     "output_type": "stream",
     "text": [
      "[<span class=\"price_info__discount\" data-v-9e5ceb12=\"\">21,520<small data-v-9e5ceb12=\"\">원</small></span>, <span class=\"price_info__discount\" data-v-9e5ceb12=\"\">112,000<small data-v-9e5ceb12=\"\">원</small></span>, <span class=\"price_info__discount\" data-v-9e5ceb12=\"\">34,900<small data-v-9e5ceb12=\"\">원</small></span>, <span class=\"price_info__discount\" data-v-9e5ceb12=\"\">33,930<small data-v-9e5ceb12=\"\">원</small></span>, <span class=\"price_info__discount\" data-v-9e5ceb12=\"\">59,600<small data-v-9e5ceb12=\"\">원</small></span>, <span class=\"price_info__discount\" data-v-9e5ceb12=\"\">58,900<small data-v-9e5ceb12=\"\">원</small></span>, <span class=\"price_info__discount\" data-v-9e5ceb12=\"\">25,900<small data-v-9e5ceb12=\"\">원</small></span>, <span class=\"price_info__discount\" data-v-9e5ceb12=\"\">19,450<small data-v-9e5ceb12=\"\">원</small></span>, <span class=\"price_info__discount\" data-v-9e5ceb12=\"\">5,990<small data-v-9e5ceb12=\"\">원</small></span>, <span class=\"price_info__discount\" data-v-9e5ceb12=\"\">1,940,000<small data-v-9e5ceb12=\"\">원</small></span>, <span class=\"price_info__discount\" data-v-9e5ceb12=\"\">27,440<small data-v-9e5ceb12=\"\">원</small></span>, <span class=\"price_info__discount\" data-v-9e5ceb12=\"\">12,750<small data-v-9e5ceb12=\"\">원</small></span>]\n"
     ]
    }
   ],
   "source": [
    "import requests\n",
    "from bs4 import BeautifulSoup as bs\n",
    "\n",
    "url = \"https://pages.coupang.com/p/96636\"\n",
    "\n",
    "response = requests.get(url)\n",
    "\n",
    "html = bs(response.text)\n",
    "\n",
    "price = html.select(\".price_info__discount\")\n",
    "print(price)\n"
   ]
  },
  {
   "cell_type": "code",
   "execution_count": 15,
   "metadata": {},
   "outputs": [
    {
     "name": "stdout",
     "output_type": "stream",
     "text": [
      "{'이미지': 'https://thumbnail10.coupangcdn.com/thumbnails/remote/230x230ex/image/retail/images/3671196941445019-5989f3aa-a942-44e8-bacd-fb4e093aa71c.jpg', '상품명': '쿤달 퍼퓸 디퓨저 200ml 3개 + 섬유스틱 15개 세트, 블랙체리향', '가격': '21,520원'}\n",
      "{'이미지': 'https://thumbnail6.coupangcdn.com/thumbnails/remote/230x230ex/image/retail/images/4173917782382193-aecaab22-634d-4570-8e6f-0cad29b2149e.jpg', '상품명': '설화수 New 자음2종, 1세트', '가격': '112,000원'}\n",
      "{'이미지': 'https://thumbnail6.coupangcdn.com/thumbnails/remote/230x230ex/image/retail/images/2023/08/11/17/6/ed6a339d-0284-4516-a9e3-65c6c0d13bca.jpg', '상품명': '동원 튜나리챔 선물세트 O-68호 + 부직포백, 1세트', '가격': '34,900원'}\n",
      "{'이미지': 'https://thumbnail10.coupangcdn.com/thumbnails/remote/230x230ex/image/product/image/vendoritem/2019/02/15/3025312682/7f05b638-a55a-4037-8e76-1035974e7d86.jpg', '상품명': '넛츠팜 프리미엄 견과 선물세트 4호, 1150g, 1세트', '가격': '33,930원'}\n",
      "{'이미지': 'https://thumbnail9.coupangcdn.com/thumbnails/remote/230x230ex/image/retail/images/2023/08/16/18/1/11edc5e5-d4b8-475d-aacf-df3002e519bc.jpg', '상품명': '이동갈비 소고기 한입 LA양념갈비 선물세트 (냉동), 500g, 4개', '가격': '59,600원'}\n",
      "{'이미지': 'https://thumbnail7.coupangcdn.com/thumbnails/remote/230x230ex/image/retail/images/1489653006914303-966acf23-cc0e-4c82-86b3-a60ec00416a7.jpg', '상품명': '종근당 침향환 골드, 225g, 1개', '가격': '58,900원'}\n",
      "{'이미지': 'https://thumbnail7.coupangcdn.com/thumbnails/remote/230x230ex/image/retail/images/457539561315-406c6eff-2e95-4b8f-8f07-d916ae3a6b61.jpg', '상품명': '떡편 감사세트 1호 24개입 (냉동), 1080g, 1세트', '가격': '25,900원'}\n",
      "{'이미지': 'https://thumbnail9.coupangcdn.com/thumbnails/remote/230x230ex/image/retail/images/2023/08/11/15/1/62786b28-5dca-407d-a228-92e3aeebc4fd.jpg', '상품명': '애경 명화의 품격 O-2호 선물세트, 1세트', '가격': '19,450원'}\n",
      "{'이미지': 'https://thumbnail10.coupangcdn.com/thumbnails/remote/230x230ex/image/retail/images/702510257453650-55ca429c-1a8e-4385-b70b-1a6dcd0eaffd.jpg', '상품명': '코멧 깨끗한 천연펄프 키친타월 150매, 8개', '가격': '5,990원'}\n",
      "{'이미지': 'https://thumbnail9.coupangcdn.com/thumbnails/remote/230x230ex/image/retail/images/1868430085607403-b15e6f7c-1c9a-427d-b49d-40e5b387a5db.jpg', '상품명': '바디프랜드 레그넘 안마의자 + 러그(랜덤발송) 방문설치, BFK-5000, 오트베이지', '가격': '1,940,000원'}\n",
      "{'이미지': 'https://thumbnail6.coupangcdn.com/thumbnails/remote/230x230ex/image/retail/images/7537201921766957-699400a0-f754-431d-b18b-a3ebd86423fc.jpg', '상품명': '청정원 행복 2호, 1세트', '가격': '27,440원'}\n",
      "{'이미지': 'https://thumbnail9.coupangcdn.com/thumbnails/remote/230x230ex/image/retail/images/1066053389089338-5e0dd077-2d91-4609-8f9c-4860cb640c1b.jpg', '상품명': '타야스 투바나 초콜렛, 1600g, 1개', '가격': '12,750원'}\n"
     ]
    }
   ],
   "source": [
    "import requests\n",
    "from bs4 import BeautifulSoup as bs\n",
    "\n",
    "url = \"https://pages.coupang.com/p/96636\"\n",
    "\n",
    "response = requests.get(url)\n",
    "\n",
    "html = bs(response.text)\n",
    "imgs = html.select(\".sale_point_product__product_image > img\")\n",
    "\n",
    "productList = []\n",
    "\n",
    "for img in imgs:\n",
    "    if bool(img.get(\"lazy-load\")):\n",
    "        image_url = \"https:\" + img.get(\"lazy-load\")\n",
    "        info_section_title = img.find_next(\"span\", class_=\"info_section__title\").text\n",
    "        price_info__discount = img.find_next(\"span\", class_=\"price_info__discount\").text\n",
    "        \n",
    "        productList.append({\"이미지\": image_url, \"상품명\": info_section_title, \"가격\": price_info__discount})\n",
    "\n",
    "for pair in productList:\n",
    "    print(pair)"
   ]
  },
  {
   "cell_type": "code",
   "execution_count": 21,
   "metadata": {},
   "outputs": [
    {
     "data": {
      "text/plain": [
       "[{'상품명': '쿤달 퍼퓸 디퓨저 200ml 3개 + 섬유스틱 15개 세트, 블랙체리향',\n",
       "  '가격': '21,520원',\n",
       "  '이미지': 'https://thumbnail10.coupangcdn.com/thumbnails/remote/230x230ex/image/retail/images/3671196941445019-5989f3aa-a942-44e8-bacd-fb4e093aa71c.jpg'},\n",
       " {'상품명': '설화수 New 자음2종, 1세트',\n",
       "  '가격': '112,000원',\n",
       "  '이미지': 'https://thumbnail6.coupangcdn.com/thumbnails/remote/230x230ex/image/retail/images/4173917782382193-aecaab22-634d-4570-8e6f-0cad29b2149e.jpg'},\n",
       " {'상품명': '동원 튜나리챔 선물세트 O-68호 + 부직포백, 1세트',\n",
       "  '가격': '34,900원',\n",
       "  '이미지': 'https://thumbnail6.coupangcdn.com/thumbnails/remote/230x230ex/image/retail/images/2023/08/11/17/6/ed6a339d-0284-4516-a9e3-65c6c0d13bca.jpg'},\n",
       " {'상품명': '넛츠팜 프리미엄 견과 선물세트 4호, 1150g, 1세트',\n",
       "  '가격': '33,930원',\n",
       "  '이미지': 'https://thumbnail10.coupangcdn.com/thumbnails/remote/230x230ex/image/product/image/vendoritem/2019/02/15/3025312682/7f05b638-a55a-4037-8e76-1035974e7d86.jpg'},\n",
       " {'상품명': '이동갈비 소고기 한입 LA양념갈비 선물세트 (냉동), 500g, 4개',\n",
       "  '가격': '59,600원',\n",
       "  '이미지': 'https://thumbnail9.coupangcdn.com/thumbnails/remote/230x230ex/image/retail/images/2023/08/16/18/1/11edc5e5-d4b8-475d-aacf-df3002e519bc.jpg'},\n",
       " {'상품명': '종근당 침향환 골드, 225g, 1개',\n",
       "  '가격': '58,900원',\n",
       "  '이미지': 'https://thumbnail7.coupangcdn.com/thumbnails/remote/230x230ex/image/retail/images/1489653006914303-966acf23-cc0e-4c82-86b3-a60ec00416a7.jpg'},\n",
       " {'상품명': '떡편 감사세트 1호 24개입 (냉동), 1080g, 1세트',\n",
       "  '가격': '25,900원',\n",
       "  '이미지': 'https://thumbnail7.coupangcdn.com/thumbnails/remote/230x230ex/image/retail/images/457539561315-406c6eff-2e95-4b8f-8f07-d916ae3a6b61.jpg'},\n",
       " {'상품명': '애경 명화의 품격 O-2호 선물세트, 1세트',\n",
       "  '가격': '19,450원',\n",
       "  '이미지': 'https://thumbnail9.coupangcdn.com/thumbnails/remote/230x230ex/image/retail/images/2023/08/11/15/1/62786b28-5dca-407d-a228-92e3aeebc4fd.jpg'},\n",
       " {'상품명': '코멧 깨끗한 천연펄프 키친타월 150매, 8개',\n",
       "  '가격': '5,990원',\n",
       "  '이미지': 'https://thumbnail10.coupangcdn.com/thumbnails/remote/230x230ex/image/retail/images/702510257453650-55ca429c-1a8e-4385-b70b-1a6dcd0eaffd.jpg'},\n",
       " {'상품명': '바디프랜드 레그넘 안마의자 + 러그(랜덤발송) 방문설치, BFK-5000, 오트베이지',\n",
       "  '가격': '1,940,000원',\n",
       "  '이미지': 'https://thumbnail9.coupangcdn.com/thumbnails/remote/230x230ex/image/retail/images/1868430085607403-b15e6f7c-1c9a-427d-b49d-40e5b387a5db.jpg'},\n",
       " {'상품명': '청정원 행복 2호, 1세트',\n",
       "  '가격': '27,440원',\n",
       "  '이미지': 'https://thumbnail6.coupangcdn.com/thumbnails/remote/230x230ex/image/retail/images/7537201921766957-699400a0-f754-431d-b18b-a3ebd86423fc.jpg'},\n",
       " {'상품명': '타야스 투바나 초콜렛, 1600g, 1개',\n",
       "  '가격': '12,750원',\n",
       "  '이미지': 'https://thumbnail9.coupangcdn.com/thumbnails/remote/230x230ex/image/retail/images/1066053389089338-5e0dd077-2d91-4609-8f9c-4860cb640c1b.jpg'},\n",
       " {'상품명': '', '가격': '', '이미지': ''},\n",
       " {'상품명': '', '가격': '', '이미지': ''},\n",
       " {'상품명': '', '가격': '', '이미지': ''},\n",
       " {'상품명': '', '가격': '', '이미지': ''}]"
      ]
     },
     "execution_count": 21,
     "metadata": {},
     "output_type": "execute_result"
    }
   ],
   "source": [
    "import requests\n",
    "from bs4 import BeautifulSoup as bs\n",
    "\n",
    "url = \"https://pages.coupang.com/p/96636\"\n",
    "\n",
    "response = requests.get(url)\n",
    "\n",
    "html = bs(response.text)\n",
    "\n",
    "\n",
    "sale_point_products = html.select(\".sale_point_product\")\n",
    "\n",
    "productList = []\n",
    "\n",
    "for product in sale_point_products:\n",
    "\n",
    "    productName = product.select_one(\".info_section__title\").text\n",
    "    price = product.select_one(\".price_info__discount\")\n",
    "    price = price.text if price != None else \"\"\n",
    "    src = product.select_one(\".sale_point_product__product_image > img\").get(\"lazy-load\")\n",
    "    src = \"https:\" + src if src != None else\"\"\n",
    "\n",
    "    productDict = {\n",
    "        \"상품명\" : productName,\n",
    "        \"가격\" : price,\n",
    "        \"이미지\" : src\n",
    "    }\n",
    "\n",
    "    productList.append(productDict)\n",
    "\n",
    "productList\n",
    "    \n"
   ]
  },
  {
   "cell_type": "code",
   "execution_count": null,
   "metadata": {},
   "outputs": [],
   "source": []
  }
 ],
 "metadata": {
  "kernelspec": {
   "display_name": "base",
   "language": "python",
   "name": "python3"
  },
  "language_info": {
   "codemirror_mode": {
    "name": "ipython",
    "version": 3
   },
   "file_extension": ".py",
   "mimetype": "text/x-python",
   "name": "python",
   "nbconvert_exporter": "python",
   "pygments_lexer": "ipython3",
   "version": "3.11.5"
  },
  "orig_nbformat": 4
 },
 "nbformat": 4,
 "nbformat_minor": 2
}
