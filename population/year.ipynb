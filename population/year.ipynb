{
 "cells": [
  {
   "cell_type": "code",
   "execution_count": 1,
   "metadata": {},
   "outputs": [],
   "source": [
    "import pandas as pd\n",
    "import matplotlib.pyplot as pit"
   ]
  },
  {
   "cell_type": "code",
   "execution_count": 3,
   "metadata": {},
   "outputs": [],
   "source": [
    "data = pd.read_csv(\"202108_202308_주민등록인구및세대현황_월간.csv\", encoding=\"cp949\")\n"
   ]
  },
  {
   "cell_type": "code",
   "execution_count": null,
   "metadata": {},
   "outputs": [],
   "source": [
    "dataDict = {}\n",
    "for i in range(1, len(data)):\n",
    "    dataDict[data.iloc[i,0]] = data.iloc[1, range(i, len(data.columns), 6)]\n",
    "\n",
    "print(dataDict)"
   ]
  },
  {
   "cell_type": "code",
   "execution_count": 19,
   "metadata": {},
   "outputs": [
    {
     "name": "stdout",
     "output_type": "stream",
     "text": [
      "2021년11월_세대수    10,288\n",
      "2021년12월_세대수    10,310\n",
      "2022년01월_세대수    10,326\n",
      "2022년02월_세대수    10,346\n",
      "2022년03월_세대수    10,317\n",
      "2022년04월_세대수    10,320\n",
      "2022년05월_세대수    10,308\n",
      "2022년06월_세대수    10,334\n",
      "2022년07월_세대수    10,347\n",
      "2022년08월_세대수    10,389\n",
      "2022년09월_세대수    10,393\n",
      "2022년10월_세대수    10,421\n",
      "2022년11월_세대수    10,427\n",
      "2022년12월_세대수    10,464\n",
      "2023년01월_세대수    10,528\n",
      "2023년02월_세대수    10,611\n",
      "2023년03월_세대수    10,621\n",
      "2023년04월_세대수    10,626\n",
      "2023년05월_세대수    10,683\n",
      "2023년06월_세대수    10,703\n",
      "2023년07월_세대수    10,724\n",
      "2023년08월_세대수    10,757\n",
      "Name: 1, dtype: object\n"
     ]
    },
    {
     "ename": "NameError",
     "evalue": "name 'plt' is not defined",
     "output_type": "error",
     "traceback": [
      "\u001b[1;31m---------------------------------------------------------------------------\u001b[0m",
      "\u001b[1;31mNameError\u001b[0m                                 Traceback (most recent call last)",
      "\u001b[1;32mc:\\aws\\python\\basic\\population\\year.ipynb 셀 4\u001b[0m line \u001b[0;36m8\n\u001b[0;32m      <a href='vscode-notebook-cell:/c%3A/aws/python/basic/population/year.ipynb#W3sZmlsZQ%3D%3D?line=4'>5</a>\u001b[0m         findData \u001b[39m=\u001b[39m dataDict\u001b[39m.\u001b[39mget(i)\n\u001b[0;32m      <a href='vscode-notebook-cell:/c%3A/aws/python/basic/population/year.ipynb#W3sZmlsZQ%3D%3D?line=6'>7</a>\u001b[0m \u001b[39mprint\u001b[39m(findData)\n\u001b[1;32m----> <a href='vscode-notebook-cell:/c%3A/aws/python/basic/population/year.ipynb#W3sZmlsZQ%3D%3D?line=7'>8</a>\u001b[0m figure \u001b[39m=\u001b[39m plt\u001b[39m.\u001b[39mfigure()\n\u001b[0;32m      <a href='vscode-notebook-cell:/c%3A/aws/python/basic/population/year.ipynb#W3sZmlsZQ%3D%3D?line=8'>9</a>\u001b[0m axes \u001b[39m=\u001b[39m figure\u001b[39m.\u001b[39madd_subplot(\u001b[39m111\u001b[39m)\n\u001b[0;32m     <a href='vscode-notebook-cell:/c%3A/aws/python/basic/population/year.ipynb#W3sZmlsZQ%3D%3D?line=10'>11</a>\u001b[0m axes\u001b[39m.\u001b[39mpiot(findData)\n",
      "\u001b[1;31mNameError\u001b[0m: name 'plt' is not defined"
     ]
    }
   ],
   "source": [
    "name = input(\"행정 구역을 입력하세요 : \")\n",
    "findData = None\n",
    "for i, j in dataDict.items():\n",
    "    if name in i:\n",
    "        findData = dataDict.get(i)\n",
    "\n",
    "print(findData)\n",
    "figure = plt.figure()\n",
    "axes = figure.add_subplot(111)\n",
    "\n",
    "axes.piot(findData)\n",
    "plt.show()"
   ]
  },
  {
   "cell_type": "code",
   "execution_count": null,
   "metadata": {},
   "outputs": [],
   "source": []
  }
 ],
 "metadata": {
  "kernelspec": {
   "display_name": "base",
   "language": "python",
   "name": "python3"
  },
  "language_info": {
   "codemirror_mode": {
    "name": "ipython",
    "version": 3
   },
   "file_extension": ".py",
   "mimetype": "text/x-python",
   "name": "python",
   "nbconvert_exporter": "python",
   "pygments_lexer": "ipython3",
   "version": "3.11.5"
  },
  "orig_nbformat": 4
 },
 "nbformat": 4,
 "nbformat_minor": 2
}
